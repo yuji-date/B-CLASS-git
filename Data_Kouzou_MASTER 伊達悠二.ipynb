{
 "cells": [
  {
   "cell_type": "markdown",
   "metadata": {},
   "source": [
    "# データ構造 試験\n",
    "\n",
    "参考資料の利用は自由です。利用しても構いません。  \n",
    "\n",
    "試験時間は120分です。"
   ]
  },
  {
   "cell_type": "markdown",
   "metadata": {},
   "source": [
    "## この試験の注意事項\n",
    "この試験ではコマンドを実行した結果を利用して採点します。  \n",
    "そのため、コマンドの入力後に `Shift + Return`をするのを忘れないようにしてください。  "
   ]
  },
  {
   "cell_type": "markdown",
   "metadata": {},
   "source": [
    "---"
   ]
  },
  {
   "cell_type": "markdown",
   "metadata": {},
   "source": [
    "## 記名欄(書き忘れた場合採点されない場合があります)"
   ]
  },
  {
   "cell_type": "code",
   "execution_count": 1,
   "metadata": {},
   "outputs": [
    {
     "name": "stdout",
     "output_type": "stream",
     "text": [
      "Bクラス: 伊達悠二 様 / 実施日: 2018-03-24\n"
     ]
    }
   ],
   "source": [
    "import datetime\n",
    "YOUR_CLASS = \"B\" # A, B, Cのいずれかを入力 \n",
    "YOUR_NAME = \"伊達悠二\" # 日本語（漢字含む）で 姓 名の順に入力\n",
    "# 最後に `Shift + Enter` または `⇧ + Return` で実行してください。\n",
    "\n",
    "print(\"%sクラス: %s 様 / 実施日: %s\" % (YOUR_CLASS, YOUR_NAME, datetime.datetime.now().date()))\n",
    "# ↓に自分のクラスと名前が入力されていることを確認してください。"
   ]
  },
  {
   "cell_type": "markdown",
   "metadata": {},
   "source": [
    "---"
   ]
  },
  {
   "cell_type": "markdown",
   "metadata": {},
   "source": [
    "# 大門1. 辞書型/リスト問題\n",
    "以下にデータ構造を一つ示します。  \n",
    "`Shift + Enter` または `⇧ + Return` で実行してから以下の設問に答えてください。  \n",
    "また、この問題ではfilterなどを利用する必要はありません。  \n",
    "データを目で見てアクセスしてください。"
   ]
  },
  {
   "cell_type": "code",
   "execution_count": 2,
   "metadata": {
    "collapsed": true
   },
   "outputs": [],
   "source": [
    "data1 = {\n",
    "    \"users\": {\n",
    "         1001: {\n",
    "            \"name\": \"taro\",\n",
    "            \"groups\": [\n",
    "                2001,\n",
    "                2002\n",
    "            ]\n",
    "         },\n",
    "         1002: {\n",
    "            \"name\": \"hanako\",\n",
    "            \"groups\": [\n",
    "                2001\n",
    "            ]\n",
    "         },\n",
    "         1003: {\n",
    "            \"name\": \"kenichi\",\n",
    "            \"groups\": [\n",
    "                2002\n",
    "            ]\n",
    "         },\n",
    "         1004: {\n",
    "            \"name\": \"Lake\",\n",
    "            \"groups\": [\n",
    "                2003\n",
    "            ]\n",
    "         },\n",
    "    },\n",
    "    \"groups\": {\n",
    "         2001: {\n",
    "            \"name\": \"Admin\"\n",
    "        },\n",
    "         2002: {\n",
    "            \"name\": \"User\"\n",
    "        },\n",
    "         2003: {\n",
    "            \"name\": \"Guest\"\n",
    "        }\n",
    "    }\n",
    "}"
   ]
  },
  {
   "cell_type": "markdown",
   "metadata": {},
   "source": [
    "## 問1.\n",
    "ユーザID(`1002`)のユーザ名(`name`) を取得してください。"
   ]
  },
  {
   "cell_type": "code",
   "execution_count": 4,
   "metadata": {},
   "outputs": [
    {
     "ename": "SyntaxError",
     "evalue": "invalid syntax (<ipython-input-4-c8267a795aef>, line 1)",
     "output_type": "error",
     "traceback": [
      "\u001b[0;36m  File \u001b[0;32m\"<ipython-input-4-c8267a795aef>\"\u001b[0;36m, line \u001b[0;32m1\u001b[0m\n\u001b[0;31m    data1['users']:\u001b[0m\n\u001b[0m                   ^\u001b[0m\n\u001b[0;31mSyntaxError\u001b[0m\u001b[0;31m:\u001b[0m invalid syntax\n"
     ]
    }
   ],
   "source": [
    "data1['users']if 1002 in 1002['groups']:\n",
    "        print(1002['name'])"
   ]
  },
  {
   "cell_type": "markdown",
   "metadata": {},
   "source": [
    "## 問2.\n",
    "ユーザID(`1001`)のグループ名(`name`) を取得してください。"
   ]
  },
  {
   "cell_type": "code",
   "execution_count": null,
   "metadata": {
    "collapsed": true
   },
   "outputs": [],
   "source": []
  },
  {
   "cell_type": "code",
   "execution_count": null,
   "metadata": {
    "collapsed": true
   },
   "outputs": [],
   "source": []
  },
  {
   "cell_type": "markdown",
   "metadata": {},
   "source": [
    "## 問3.\n",
    "ユーザID(`1005`)として、「jiro」さんを追加してください。  \n",
    "所属グループは[ 2001 ]とします"
   ]
  },
  {
   "cell_type": "markdown",
   "metadata": {},
   "source": [
    "## 問4.\n",
    "全ユーザの情報を出力してください。  \n",
    "その際に、グループIDをグループ名に変換して表示してください。"
   ]
  },
  {
   "cell_type": "code",
   "execution_count": null,
   "metadata": {
    "collapsed": true
   },
   "outputs": [],
   "source": []
  },
  {
   "cell_type": "markdown",
   "metadata": {},
   "source": [
    "# 大門2. Pandas問題\n",
    "以下のライブラリをインポートしてから実行します。\n",
    "`Shift + Enter` または `⇧ + Return` で実行してから以下の設問に答えてください。  \n",
    "また、この問題ではfilterなどを利用する必要はありません。  \n",
    "データを目で見てアクセスしてください。"
   ]
  },
  {
   "cell_type": "code",
   "execution_count": null,
   "metadata": {
    "collapsed": true
   },
   "outputs": [],
   "source": [
    "import pandas as pd\n",
    "import numpy as np\n",
    "import matplotlib.pyplot as plt\n",
    "%matplotlib inline"
   ]
  },
  {
   "cell_type": "markdown",
   "metadata": {},
   "source": [
    "# 問1\n",
    "以下のデータをPandasのデータフレームにしてください  \n",
    "\n",
    "|/|A|B|C|D|E|\n",
    "|:-:|:-:|:-:|:-:|:-:|:-:|\n",
    "|W|20|40|60|80|100|\n",
    "|X|50|100|150|200|250|\n",
    "|Y|2|3|5|8|11|\n",
    "|Z|15|30|60|120|240|\n"
   ]
  },
  {
   "cell_type": "code",
   "execution_count": null,
   "metadata": {
    "collapsed": true
   },
   "outputs": [],
   "source": []
  },
  {
   "cell_type": "markdown",
   "metadata": {},
   "source": [
    "## 問2\n",
    "作成したデータフレームの横軸の合計(W,X,Y,Zの列の合計)を出力してください。"
   ]
  },
  {
   "cell_type": "code",
   "execution_count": null,
   "metadata": {
    "collapsed": true
   },
   "outputs": [],
   "source": []
  },
  {
   "cell_type": "markdown",
   "metadata": {},
   "source": [
    "## 問3\n",
    "作成したデータフレームの横軸の平均(W,X,Y,Zの列の平均)を出力してください。"
   ]
  },
  {
   "cell_type": "code",
   "execution_count": null,
   "metadata": {
    "collapsed": true
   },
   "outputs": [],
   "source": []
  }
 ],
 "metadata": {
  "kernelspec": {
   "display_name": "Python 3",
   "language": "python",
   "name": "python3"
  },
  "language_info": {
   "codemirror_mode": {
    "name": "ipython",
    "version": 3
   },
   "file_extension": ".py",
   "mimetype": "text/x-python",
   "name": "python",
   "nbconvert_exporter": "python",
   "pygments_lexer": "ipython3",
   "version": "3.6.3"
  }
 },
 "nbformat": 4,
 "nbformat_minor": 2
}
