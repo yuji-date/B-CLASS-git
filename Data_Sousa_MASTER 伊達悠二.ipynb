{
 "cells": [
  {
   "cell_type": "markdown",
   "metadata": {},
   "source": [
    "# データ操作 試験\n",
    "\n",
    "参考資料の利用は自由です。利用しても構いません。  \n",
    "\n",
    "試験時間は120分です。"
   ]
  },
  {
   "cell_type": "markdown",
   "metadata": {},
   "source": [
    "## この試験の注意事項\n",
    "この試験ではコマンドを実行した結果を利用して採点します。  \n",
    "そのため、コマンドの入力後に `Shift + Return`をするのを忘れないようにしてください。  "
   ]
  },
  {
   "cell_type": "markdown",
   "metadata": {},
   "source": [
    "---"
   ]
  },
  {
   "cell_type": "markdown",
   "metadata": {},
   "source": [
    "## 記名欄(書き忘れた場合採点されない場合があります)"
   ]
  },
  {
   "cell_type": "code",
   "execution_count": 80,
   "metadata": {},
   "outputs": [
    {
     "name": "stdout",
     "output_type": "stream",
     "text": [
      "Bクラス: 伊達悠二 様 / 実施日: 2018-03-24\n"
     ]
    }
   ],
   "source": [
    "import datetime\n",
    "YOUR_CLASS = \"B\" # A, B, Cのいずれかを入力 \n",
    "YOUR_NAME = \"伊達悠二\" # 日本語（漢字含む）で 姓 名の順に入力\n",
    "# 最後に `Shift + Enter` または `⇧ + Return` で実行してください。\n",
    "\n",
    "print(\"%sクラス: %s 様 / 実施日: %s\" % (YOUR_CLASS, YOUR_NAME, datetime.datetime.now().date()))\n",
    "# ↓に自分のクラスと名前が入力されていることを確認してください。"
   ]
  },
  {
   "cell_type": "markdown",
   "metadata": {},
   "source": [
    "---"
   ]
  },
  {
   "cell_type": "markdown",
   "metadata": {},
   "source": [
    "# 大門1 単純な構造を扱う\n",
    "以下にデータ構造を一つ示します。  \n",
    "`Shift + Enter` または `⇧ + Return` で実行してから以下の設問に答えてください。  "
   ]
  },
  {
   "cell_type": "code",
   "execution_count": 81,
   "metadata": {
    "collapsed": true
   },
   "outputs": [],
   "source": [
    "data1 = [46, 29, 66, 23, 19, 15, 89, 25, 71, 57]"
   ]
  },
  {
   "cell_type": "markdown",
   "metadata": {},
   "source": [
    "## 問1.\n",
    "map関数を利用して全ての値を5倍にした配列を`data1_1`として作成してください"
   ]
  },
  {
   "cell_type": "code",
   "execution_count": 82,
   "metadata": {},
   "outputs": [
    {
     "name": "stdout",
     "output_type": "stream",
     "text": [
      "[230, 145, 330, 115, 95, 75, 445, 125, 355, 285]\n"
     ]
    }
   ],
   "source": [
    "#forでやってみる\n",
    "data1_1=[]\n",
    "for i in data1:\n",
    "    d=i*5\n",
    "    data1_1.append(d)\n",
    "print(data1_1)"
   ]
  },
  {
   "cell_type": "code",
   "execution_count": 83,
   "metadata": {},
   "outputs": [
    {
     "name": "stdout",
     "output_type": "stream",
     "text": [
      "[230, 145, 330, 115, 95, 75, 445, 125, 355, 285]\n"
     ]
    }
   ],
   "source": [
    "#map関数にする\n",
    "def iii(i):\n",
    "    return i*5\n",
    "data1_1=print(list(map(iii,data1)))"
   ]
  },
  {
   "cell_type": "markdown",
   "metadata": {},
   "source": [
    "## 問2.\n",
    "問1と同じことをリスト内包表記でコーディングし、配列を`data1_2`として作成してください。。"
   ]
  },
  {
   "cell_type": "code",
   "execution_count": 84,
   "metadata": {},
   "outputs": [
    {
     "name": "stdout",
     "output_type": "stream",
     "text": [
      "[[230, 145, 330, 115, 95, 75, 445, 125, 355, 285]]\n"
     ]
    }
   ],
   "source": [
    "data1_2=print([list(map(iii,data1))])"
   ]
  },
  {
   "cell_type": "markdown",
   "metadata": {},
   "source": [
    "## 問3.\n",
    "filter関数を利用して偶数のみを取り出した配列を`data1_3`として作成してください"
   ]
  },
  {
   "cell_type": "code",
   "execution_count": 88,
   "metadata": {},
   "outputs": [
    {
     "name": "stdout",
     "output_type": "stream",
     "text": [
      "[46, 66]\n"
     ]
    }
   ],
   "source": [
    "def guusuu(i):\n",
    "    if i%2==0:\n",
    "        return i\n",
    "    else:\n",
    "        return False\n",
    "data1_3=print(list(filter(guusuu,data1)))"
   ]
  },
  {
   "cell_type": "markdown",
   "metadata": {},
   "source": [
    "## 問4.\n",
    "問3と同じことをリスト内包表記でコーディングし、配列を`data1_4`として作成してください。。"
   ]
  },
  {
   "cell_type": "code",
   "execution_count": 90,
   "metadata": {},
   "outputs": [
    {
     "name": "stdout",
     "output_type": "stream",
     "text": [
      "[46, 66]\n"
     ]
    }
   ],
   "source": [
    "data1_4=[i for i in data1 if i%2==0]\n",
    "#             ↑いつものfor文のi。回していく\n",
    "#                           ↑iの条件。満たしたら（下に続く）\n",
    "#       ↑ここに。追加されていく\n",
    "print(data1_4)\n"
   ]
  },
  {
   "cell_type": "markdown",
   "metadata": {},
   "source": [
    "# 大門2. 複雑な構造を扱う\n",
    "以下にデータ構造を一つ示します。  \n",
    "`Shift + Enter` または `⇧ + Return` で実行してから以下の設問に答えてください。  "
   ]
  },
  {
   "cell_type": "code",
   "execution_count": 2,
   "metadata": {
    "collapsed": true
   },
   "outputs": [],
   "source": [
    "data2 = {\n",
    "    \"users\": [\n",
    "        {\n",
    "            \"id\": 1001,\n",
    "            \"name\": \"taro\",\n",
    "            \"groups\": [\n",
    "                2001,\n",
    "                2002\n",
    "            ]\n",
    "        },\n",
    "        {\n",
    "            \"id\": 1002,\n",
    "            \"name\": \"hanako\",\n",
    "            \"groups\": [\n",
    "                2002\n",
    "            ]\n",
    "        },\n",
    "        {\n",
    "            \"id\": 1003,\n",
    "            \"name\": \"kenichi\",\n",
    "            \"groups\": [\n",
    "                2002\n",
    "            ]\n",
    "        },\n",
    "        {\n",
    "            \"id\": 1004,\n",
    "            \"name\": \"Lake\",\n",
    "            \"groups\": [\n",
    "                2003\n",
    "            ]\n",
    "        }\n",
    "    ],\n",
    "    \"groups\": [\n",
    "        {\n",
    "            \"id\": 2001,\n",
    "            \"name\": \"Admin\"\n",
    "        },\n",
    "        {\n",
    "            \"id\": 2002,\n",
    "            \"name\": \"User\"\n",
    "        },\n",
    "        {\n",
    "            \"id\": 2003,\n",
    "            \"name\": \"Guest\"\n",
    "        }\n",
    "    ]\n",
    "}"
   ]
  },
  {
   "cell_type": "markdown",
   "metadata": {},
   "source": [
    "## 問1.\n",
    "filter関数を利用してグループIDが`2002`を含むユーザのみを抽出してください"
   ]
  },
  {
   "cell_type": "code",
   "execution_count": null,
   "metadata": {
    "collapsed": true
   },
   "outputs": [],
   "source": [
    "# data2 = {\"users\": [{\"id\": 1001,\"name\": \"taro\",\"groups\": [2001,2002]},{\"id\": 1002,\"name\": \"hanako\",\"groups\": [2002]},\n",
    "#                    {\"id\": 1003,\"name\": \"kenichi\",\"groups\": [2002]},{\"id\": 1004,\"name\": \"Lake\",\"groups\": [2003]}],\n",
    "#          #キー「users」に対するバリューは４つ\n",
    "#     　　　#    「id」「name」に対するバリューは１つ\n",
    "#          #   「groups」に対するバリューはtaroのみ２つ、他は１つ　　→  これが「２００２」を含むid-name-groupsの組み合わせを抽出！\n",
    "         \n",
    "#          \"groups\": [{\"id\": 2001,\"name\": \"Admin\"},{\"id\": 2002,\"name\": \"User\"},{\"id\": 2003,\"name\": \"Guest\"}]}\n",
    "#          #キー「groups」に対するバリューは３つ\n",
    "#          #    「id」「name」に対するバリューは１つ\n",
    "#          # →idが「２００２」つまり「user」のみ抽出！"
   ]
  },
  {
   "cell_type": "code",
   "execution_count": 27,
   "metadata": {},
   "outputs": [
    {
     "name": "stdout",
     "output_type": "stream",
     "text": [
      "taro\n",
      "hanako\n",
      "kenichi\n"
     ]
    }
   ],
   "source": [
    "#forでやってみる\n",
    "for i in data2[\"users\"]:\n",
    "    if 2002 in i['groups']:\n",
    "        print(i['name'])"
   ]
  },
  {
   "cell_type": "code",
   "execution_count": 76,
   "metadata": {},
   "outputs": [],
   "source": [
    "def inculued_2002(i):\n",
    "\n",
    "    #iは下記filter関数の　data2['users']に対するバリュー（要素）が代入される。\n",
    "    #下のプリントで見やすく表示できる\n",
    "    \n",
    "    #print(\"i=\",i)\n",
    "    #print('------------------------------------------')\n",
    "    \n",
    "    \n",
    "    if 2002 in i['groups']:\n",
    "        #辞書（要素）のキー='groups'に2002があればTrueがかえる\n",
    "        return True"
   ]
  },
  {
   "cell_type": "code",
   "execution_count": 77,
   "metadata": {},
   "outputs": [
    {
     "name": "stdout",
     "output_type": "stream",
     "text": [
      "[{'id': 1001, 'name': 'taro', 'groups': [2001, 2002]}, {'id': 1002, 'name': 'hanako', 'groups': [2002]}, {'id': 1003, 'name': 'kenichi', 'groups': [2002]}]\n"
     ]
    }
   ],
   "source": [
    "print(list(filter(inculued_2002,data2['users'])))"
   ]
  }
 ],
 "metadata": {
  "kernelspec": {
   "display_name": "Python 3",
   "language": "python",
   "name": "python3"
  },
  "language_info": {
   "codemirror_mode": {
    "name": "ipython",
    "version": 3
   },
   "file_extension": ".py",
   "mimetype": "text/x-python",
   "name": "python",
   "nbconvert_exporter": "python",
   "pygments_lexer": "ipython3",
   "version": "3.6.3"
  }
 },
 "nbformat": 4,
 "nbformat_minor": 2
}
